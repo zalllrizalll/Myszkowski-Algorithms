{
  "cells": [
    {
      "cell_type": "markdown",
      "metadata": {
        "id": "view-in-github",
        "colab_type": "text"
      },
      "source": [
        "<a href=\"https://colab.research.google.com/github/zalllrizalll/Algoritma-Myszkowski/blob/main/Myszkowski.ipynb\" target=\"_parent\"><img src=\"https://colab.research.google.com/assets/colab-badge.svg\" alt=\"Open In Colab\"/></a>"
      ]
    },
    {
      "cell_type": "markdown",
      "metadata": {
        "id": "3EtTDTfCXFyC"
      },
      "source": [
        "**ALGORITMA MYSZKOWSKI**"
      ]
    },
    {
      "cell_type": "code",
      "execution_count": null,
      "metadata": {
        "colab": {
          "base_uri": "https://localhost:8080/",
          "height": 53
        },
        "id": "YPY6SKZ2XFyE",
        "outputId": "8eeb94aa-8c23-41c9-9065-6604e8670562"
      },
      "outputs": [
        {
          "name": "stdout",
          "output_type": "stream",
          "text": [
            "Masukkan PlainText : TENTUKAN PRIORITAS ANDA SEBAB KITA TIDAK DAPAT MENGERJAKAN SEMUANYA X\n"
          ]
        },
        {
          "output_type": "execute_result",
          "data": {
            "text/plain": [
              "'TENTUKAN PRIORITAS ANDA SEBAB KITA TIDAK DAPAT MENGERJAKAN SEMUANYA X'"
            ],
            "application/vnd.google.colaboratory.intrinsic+json": {
              "type": "string"
            }
          },
          "metadata": {},
          "execution_count": 58
        }
      ],
      "source": [
        "plainText = input(\"Masukkan PlainText : \") #untuk memberikan inputan plainText\n",
        "plainText #untuk menampilkan output dari plainText yang telah diinput"
      ]
    },
    {
      "cell_type": "markdown",
      "source": [
        "Pada kode diatas berfungsi untuk memberikan inputan agar dapat memasukkan plainText yang ingin diinputkan. Lalu kita panggil plainText untuk dapat menampilkan output plainText yang telah diinputkan tadi."
      ],
      "metadata": {
        "id": "5kZ7GPlvXfxt"
      }
    },
    {
      "cell_type": "code",
      "execution_count": null,
      "metadata": {
        "colab": {
          "base_uri": "https://localhost:8080/",
          "height": 53
        },
        "id": "bkbHNmL2XFyF",
        "outputId": "0be57147-399a-4df2-c8ca-0e6ab79babce"
      },
      "outputs": [
        {
          "name": "stdout",
          "output_type": "stream",
          "text": [
            "Masukkan Kunci : BOROBUDUR\n"
          ]
        },
        {
          "output_type": "execute_result",
          "data": {
            "text/plain": [
              "'BOROBUDUR'"
            ],
            "application/vnd.google.colaboratory.intrinsic+json": {
              "type": "string"
            }
          },
          "metadata": {},
          "execution_count": 85
        }
      ],
      "source": [
        "kunci = input(\"Masukkan Kunci : \") #untuk memberikan inputan kata kunci\n",
        "kunci #untuk menampilkan output dari kata kunci yang telah diinput"
      ]
    },
    {
      "cell_type": "markdown",
      "source": [
        "Pada kode diatas berfungsi untuk memberikan inputan agar dapat memasukkan kata kunci yang ingin diinputkan. Lalu kita panggil kunci untuk dapat menampilkan output kata kunci yang telah diinputkan tadi."
      ],
      "metadata": {
        "id": "vDPSlyWXYC9o"
      }
    },
    {
      "cell_type": "code",
      "execution_count": null,
      "metadata": {
        "id": "eNH0Er48XFyG",
        "colab": {
          "base_uri": "https://localhost:8080/"
        },
        "outputId": "55c6abdf-6289-4e3a-a961-58ffff7afd3b"
      },
      "outputs": [
        {
          "output_type": "execute_result",
          "data": {
            "text/plain": [
              "6.666666666666667"
            ]
          },
          "metadata": {},
          "execution_count": 86
        }
      ],
      "source": [
        "# VALIDASI INPUT USER\n",
        "if not plainText:\n",
        "    print(\"PlainText Kosong !\") #jika tidak ada plainText, maka akan muncul output PlainText Kosong !\n",
        "elif not kunci:\n",
        "    print(\"Kunci Kosong !\") #jika tidak ada kunci, maka akan muncul output PlainText Kosong !\n",
        "else:\n",
        "    plaintext_size = len(plainText) #jika plaintext_size = panjang dari plainText yang telah di inputkan\n",
        "    kunci_size = len(kunci) #kunci_size = panjang dsri kunci yang telah di inputkan\n",
        "    size = plaintext_size / kunci_size #maka size = plaintext_size / kunci_size untuk menampilkan panjang dari pembagian antara plainText dengan kunci\n",
        "    size #untuk menampilkan output dari size\n",
        "size"
      ]
    },
    {
      "cell_type": "markdown",
      "source": [
        "Pada kode diatas berfungsi untuk melakukan sebuah pengkondisian untuk memvalidasi inputan dari user yaitu terdapat If dan else. Jika tidak ada plainText, maka akan muncul output PlainText Kosong !, jika tidak ada kunci, maka akan muncul output PlainText Kosong !. Kemudian didalam else, terdapat suatu pernyataan yaitu plaintext_size = panjang dari plainText yang telah di inputkan, kunci_size = panjang dsri kunci yang telah di inputkan, maka size = plaintext_size / kunci_size untuk menampilkan panjang dari pembagian antara plainText dengan kunci, untuk menampilkan output dari size."
      ],
      "metadata": {
        "id": "4Nk8LSpha5Ss"
      }
    },
    {
      "cell_type": "code",
      "execution_count": null,
      "metadata": {
        "id": "aUUF53cdXFyG"
      },
      "outputs": [],
      "source": [
        "import math # import library math\n",
        "\n",
        "def checkDecimal(plainText, key): #membuat fungsi checkDecimal dengan parameter plainText dan key\n",
        "    rows = 0 #membuat variabel rows bernilai 1\n",
        "    if(len(plainText) % len(key) != 0): #jika panjang plainText di modulus dengan panjang kunci tidak sama dengan 0\n",
        "        rows = math.ceil(len(plainText) / len(key)+1) #maka baris = hasil pembagian antara panjang plainText dengan panjang kunci dibulatkan keatas\n",
        "    else: #jika baris = panjang plainText dibagi panjang kunci ditambah 1\n",
        "        rows = len(plainText) / len(key) + 1\n",
        "    return rows #maka value baris akan dikembalikan"
      ]
    },
    {
      "cell_type": "markdown",
      "source": [
        "Pada kode diatas terdapat library math untuk menjalankan fungsi math untuk membulatkan bilangan keatas. lalu pada kode diatas terdapat variabel checkDecimal dengan parameter plainText dan juga key. kemudian baris dibuat sama dengan 0. Kemudian terdapat pengkondisian yaitu jika panjang plainText di modulus dengan panjang kunci tidak sama dengan 0 maka baris = hasil pembagian antara panjang plainText dengan panjang kunci dibulatkan keatas. lalu jika panjang plainText di modulus dengan panjang kunci sama dengan 0 maka baris = panjang plainText dibagi panjang kunci ditambah 1. Kemudian baris akan direturn atau dikembalikan lagi untuk dilakukan pengulangan."
      ],
      "metadata": {
        "id": "J5sA7GOEdGji"
      }
    },
    {
      "cell_type": "code",
      "execution_count": null,
      "metadata": {
        "colab": {
          "base_uri": "https://localhost:8080/"
        },
        "id": "2yjT1IXdXFyG",
        "outputId": "094b3237-8c6d-4eeb-cfa4-a88d137e22e2"
      },
      "outputs": [
        {
          "output_type": "execute_result",
          "data": {
            "text/plain": [
              "8"
            ]
          },
          "metadata": {},
          "execution_count": 88
        }
      ],
      "source": [
        "rows = checkDecimal(plainText, kunci) #variable baris = checkDecimal dengan parameter plainText dan kunci\n",
        "rows #memanggil variable baris untuk menampilkan output baris"
      ]
    },
    {
      "cell_type": "markdown",
      "source": [
        "Pada kode diatas berfungsi untuk menampilkan output baris yang akan digunakan untuk enkripsi, yang mana terdapat variabel baris = checkDecimal dengan parameter plainText dan kunci. Kemudian kita panggil baris untuk menampilkan output jumlah baris"
      ],
      "metadata": {
        "id": "dVd-ZxwsfY47"
      }
    },
    {
      "cell_type": "code",
      "execution_count": null,
      "metadata": {
        "colab": {
          "base_uri": "https://localhost:8080/",
          "height": 35
        },
        "id": "N1x0J7MDXFyG",
        "outputId": "b3589bf3-f1b4-4e38-95c6-a528b6293153"
      },
      "outputs": [
        {
          "output_type": "execute_result",
          "data": {
            "text/plain": [
              "'TENTUKANPRIORITASANDASEBABKITATIDAKDAPATMENGERJAKANSEMUANYAX'"
            ],
            "application/vnd.google.colaboratory.intrinsic+json": {
              "type": "string"
            }
          },
          "metadata": {},
          "execution_count": 89
        }
      ],
      "source": [
        "plainText = plainText.replace(\" \",\"\") #untuk memberikan spasi pada plainText\n",
        "plainText # Menampilkan nilai plaintext"
      ]
    },
    {
      "cell_type": "code",
      "source": [
        "unique_keyword = sorted(set(kunci)) #variabel unique_keyword untuk menyimpan nilai urut dari kunci, dan menghapus nilai duplikat dari kunci\n",
        "unique_keyword #untuk menampilkan output dari variabel unique_keyword"
      ],
      "metadata": {
        "colab": {
          "base_uri": "https://localhost:8080/"
        },
        "id": "ij_ZDhZ6NFvO",
        "outputId": "d6ea9a73-1531-4e86-8158-5c4ebe067533"
      },
      "execution_count": null,
      "outputs": [
        {
          "output_type": "execute_result",
          "data": {
            "text/plain": [
              "['B', 'D', 'O', 'R', 'U']"
            ]
          },
          "metadata": {},
          "execution_count": 90
        }
      ]
    },
    {
      "cell_type": "markdown",
      "source": [
        "Pada kode diatas terdapat replace yang mana berfungsi untuk memberikan spasi pada plainText yang diinputkan. Lalu terdapat variabel unique_keyword untuk menampilkan 1 kali pada kunci yang duplikat"
      ],
      "metadata": {
        "id": "q3Z0K97FitYl"
      }
    },
    {
      "cell_type": "code",
      "execution_count": null,
      "metadata": {
        "colab": {
          "base_uri": "https://localhost:8080/"
        },
        "id": "IuZz8qNLXFyH",
        "outputId": "010ff0a5-2506-4113-9e4e-5b0385986206"
      },
      "outputs": [
        {
          "output_type": "execute_result",
          "data": {
            "text/plain": [
              "{'B': [], 'D': [], 'O': [], 'R': [], 'U': []}"
            ]
          },
          "metadata": {},
          "execution_count": 91
        }
      ],
      "source": [
        "keyword_order = {char: [] for char in unique_keyword} # membuat tipe data dictionary, dan menambahkan sebuah list di value\n",
        "keyword_order #menampilkan output dari variabel keyword_order"
      ]
    },
    {
      "cell_type": "markdown",
      "source": [
        "Pada kode diatas terdapat keyword_order yang berfungsi sebagai variabel penampung untuk memberikan value atau nilai kepada unique_keyword agar nantinya dapat digunakan untuk mengurutkan kata kunci."
      ],
      "metadata": {
        "id": "xQAB1SgBjmUP"
      }
    },
    {
      "cell_type": "code",
      "execution_count": null,
      "metadata": {
        "colab": {
          "base_uri": "https://localhost:8080/"
        },
        "id": "E2AVs9YFXFyH",
        "outputId": "484df595-ecfa-42e8-a0bd-1071f98ac377"
      },
      "outputs": [
        {
          "output_type": "execute_result",
          "data": {
            "text/plain": [
              "['B', 'O', 'R', 'O', 'B', 'U', 'D', 'U', 'R']"
            ]
          },
          "metadata": {},
          "execution_count": 92
        }
      ],
      "source": [
        "original_keyword_order = [char for char in kunci] # tipe data array\n",
        "original_keyword_order #menampilkan output dari variabel original_keyword_order"
      ]
    },
    {
      "cell_type": "markdown",
      "source": [
        "Pada kode diatas terdapat original_keyword_order untuk menampung kata kunci yang diinputkan, yang nantinya original_keyword_order dipanggil untuk menampilkan output dari kata kunci yang telah diinputkan."
      ],
      "metadata": {
        "id": "fxJbhp-YqLcH"
      }
    },
    {
      "cell_type": "code",
      "execution_count": null,
      "metadata": {
        "colab": {
          "base_uri": "https://localhost:8080/"
        },
        "id": "wZsCKRu1XFyH",
        "outputId": "f207694a-8863-47aa-e96a-186aba6187f0"
      },
      "outputs": [
        {
          "output_type": "execute_result",
          "data": {
            "text/plain": [
              "{'B': [1, 1], 'D': [2], 'O': [3, 3], 'R': [4, 4], 'U': [5, 5]}"
            ]
          },
          "metadata": {},
          "execution_count": 93
        }
      ],
      "source": [
        "for col, char in enumerate(unique_keyword): # Pengulangan melalui karakter unik dalam unique_keyword\n",
        "    keyword_order[char].extend([col + 1] * kunci.count(char)) # Menambahkan nilai value ke dalam dictionary keyword_order dari setiap hitungan karakter yang muncul\n",
        "keyword_order #menampilkan output keyword_order"
      ]
    },
    {
      "cell_type": "markdown",
      "source": [
        "Pada kode diatas berfungsi untuk menambahlan nilai value pada keyword_order dan nilai valuenya didapat dari banyaknya karakter yang muncul pada kunci."
      ],
      "metadata": {
        "id": "TYYAJ7iMq0ko"
      }
    },
    {
      "cell_type": "code",
      "execution_count": null,
      "metadata": {
        "colab": {
          "base_uri": "https://localhost:8080/"
        },
        "id": "8R-JCGjCXFyH",
        "outputId": "94755ea8-7f11-46be-fb03-104f7523e832"
      },
      "outputs": [
        {
          "output_type": "execute_result",
          "data": {
            "text/plain": [
              "['1, 1', '3, 3', '4, 4', '3, 3', '1, 1', '5, 5', '2', '5, 5', '4, 4']"
            ]
          },
          "metadata": {},
          "execution_count": 94
        }
      ],
      "source": [
        "key_index = [] # Membuat list baru untuk menampung nilai value dari keyword_order\n",
        "for char in kunci: # Melakukan iterasi untuk setiap karakter dalam variabel 'kunci'.\n",
        "  orders = ', '.join(map(str, keyword_order[char])) # Mengubah data list integer menjadi bentuk string dan menggabungkan elemen-elemen list tersebut dengan tanda koma dan spasi dan mengambil nilai value dari setiap karakter pada keyword_order\n",
        "  key_index.append(orders) # menambahkan nilai orders ke dalam list key_index\n",
        "key_index # menampilkan nilai key_index"
      ]
    },
    {
      "cell_type": "markdown",
      "source": [
        "Pada kode diatas berfungsi untuk mengambil nilai value dari setiap karakter keyword_order dan ditambahkan ke dalam list key_index"
      ],
      "metadata": {
        "id": "PkjdptPLrzbk"
      }
    },
    {
      "cell_type": "code",
      "execution_count": null,
      "metadata": {
        "colab": {
          "base_uri": "https://localhost:8080/"
        },
        "id": "e1Uly81fXFyH",
        "outputId": "c6678b6f-1001-44c1-c77c-d99f99a8e81d"
      },
      "outputs": [
        {
          "output_type": "execute_result",
          "data": {
            "text/plain": [
              "['1', '3', '4', '3', '1', '5', '2', '5', '4']"
            ]
          },
          "metadata": {},
          "execution_count": 95
        }
      ],
      "source": [
        "ci = [] # Membuat list baru untuk menyimpan nilai dari keyword_order\n",
        "for i in range(len(kunci)): # Melakukan iterasi dari 0 hingga panjang variabel 'kunci'.\n",
        "  for j in range(1):  # Melakukan iterasi hanya satu kali (j = 0) untuk setiap nilai i.\n",
        "    ci.append(key_index[i][j]) # menambahkan nilai Key key_index dalam list ci\n",
        "ci #menampilkan nilai ci"
      ]
    },
    {
      "cell_type": "markdown",
      "source": [
        "Pada kode diatas berfungsi hanya mengambil 1 nilai saja pada key_index"
      ],
      "metadata": {
        "id": "NvpFL-t2uqp4"
      }
    },
    {
      "cell_type": "code",
      "source": [
        "check = [] # Membuat list check untuk menyimpan kunci dan nomor urut kunci\n",
        "check.append(original_keyword_order) # Menambahkan list original_keyword_order kedalam check\n",
        "check.append(ci) # Menambahkan list ci kedalam check\n",
        "check # Menampilkan nilai check"
      ],
      "metadata": {
        "colab": {
          "base_uri": "https://localhost:8080/"
        },
        "id": "yAry7mqbaKc_",
        "outputId": "cec93236-0888-4afa-991d-5a42aa9b7467"
      },
      "execution_count": null,
      "outputs": [
        {
          "output_type": "execute_result",
          "data": {
            "text/plain": [
              "[['B', 'O', 'R', 'O', 'B', 'U', 'D', 'U', 'R'],\n",
              " ['1', '3', '4', '3', '1', '5', '2', '5', '4']]"
            ]
          },
          "metadata": {},
          "execution_count": 96
        }
      ]
    },
    {
      "cell_type": "code",
      "execution_count": null,
      "metadata": {
        "colab": {
          "base_uri": "https://localhost:8080/"
        },
        "id": "suqncShyXFyH",
        "outputId": "d3b5ddfc-2e1e-4fd8-aced-ca359957da2b"
      },
      "outputs": [
        {
          "output_type": "execute_result",
          "data": {
            "text/plain": [
              "[['', '', '', '', '', '', '', '', ''],\n",
              " ['', '', '', '', '', '', '', '', ''],\n",
              " ['', '', '', '', '', '', '', '', ''],\n",
              " ['', '', '', '', '', '', '', '', ''],\n",
              " ['', '', '', '', '', '', '', '', ''],\n",
              " ['', '', '', '', '', '', '', '', ''],\n",
              " ['', '', '', '', '', '', '', '', ''],\n",
              " ['', '', '', '', '', '', '', '', '']]"
            ]
          },
          "metadata": {},
          "execution_count": 97
        }
      ],
      "source": [
        "matrix = [['' for i in range(len(kunci))] for j in range(rows)] #Membuat sebuah 2d array list dengan nilai '' dan panjang dari array list dari kunci dan nilai rows\n",
        "matrix #menampilkan output dari matrix"
      ]
    },
    {
      "cell_type": "markdown",
      "source": [
        "Membuat sebuah 2d array list dengan nilai '' dan panjang dari array list dari kunci dan nilai rows"
      ],
      "metadata": {
        "id": "Sctwq4uqtmgW"
      }
    },
    {
      "cell_type": "code",
      "execution_count": null,
      "metadata": {
        "colab": {
          "base_uri": "https://localhost:8080/"
        },
        "id": "LovuC5MWXFyI",
        "outputId": "941c960b-1a20-4e7b-d163-581746a45ca3"
      },
      "outputs": [
        {
          "output_type": "execute_result",
          "data": {
            "text/plain": [
              "[['1', '3', '4', '3', '1', '5', '2', '5', '4'],\n",
              " ['T', 'E', 'N', 'T', 'U', 'K', 'A', 'N', 'P'],\n",
              " ['R', 'I', 'O', 'R', 'I', 'T', 'A', 'S', 'A'],\n",
              " ['N', 'D', 'A', 'S', 'E', 'B', 'A', 'B', 'K'],\n",
              " ['I', 'T', 'A', 'T', 'I', 'D', 'A', 'K', 'D'],\n",
              " ['A', 'P', 'A', 'T', 'M', 'E', 'N', 'G', 'E'],\n",
              " ['R', 'J', 'A', 'K', 'A', 'N', 'S', 'E', 'M'],\n",
              " ['U', 'A', 'N', 'Y', 'A', 'X', '#', '#', '#']]"
            ]
          },
          "metadata": {},
          "execution_count": 98
        }
      ],
      "source": [
        "index = 0 # membuat sebuah variabel int index bernilai 0 dan digunakan untuk iterasi pada for dibawah\n",
        "for i in range(rows): # Melakukan iterasi sebanyak 'rows' kali untuk membentuk baris matriks.\n",
        "  for j in range(len(kunci)): # Melakukan iterasi sebanyak karakter dalam 'kunci' untuk membentuk kolom matriks.\n",
        "    if(i == 0): # Jika ini adalah baris pertama dalam matriks:\n",
        "      matrix[i][j] = ci[j] # Mengisi elemen matriks dengan nilai dari list 'ci'.\n",
        "    else: # Jika ini bukan baris pertama dalam matriks\n",
        "      if(index < len(plainText)): # Jika 'index' kurang dari panjang plaintext:\n",
        "        matrix[i][j] = plainText[index] # Mengisi elemen matriks dengan karakter dari 'plaintext'.\n",
        "        index+=1 # Nilai index bertambah 1\n",
        "      else: # Jika 'index' sudah mencapai akhir dari 'plaintext':\n",
        "        matrix[i][j] = \"#\" # Mengisi elemen matriks dengan #.\n",
        "matrix #menampilkan nilai matrix"
      ]
    },
    {
      "cell_type": "markdown",
      "source": [
        "Pada kode diatas berfungsi untuk mengurutkan plaintext berdasarkan sesuai aturan algoritma myzskowski"
      ],
      "metadata": {
        "id": "LWHr7FgMuqY1"
      }
    },
    {
      "cell_type": "code",
      "execution_count": null,
      "metadata": {
        "colab": {
          "base_uri": "https://localhost:8080/"
        },
        "id": "eHX5aunZXFyI",
        "outputId": "18c3dc8e-83e4-4ebd-bd0a-dc1b6e702949"
      },
      "outputs": [
        {
          "output_type": "execute_result",
          "data": {
            "text/plain": [
              "['1', '2', '3', '4', '5']"
            ]
          },
          "metadata": {},
          "execution_count": 99
        }
      ],
      "source": [
        "kunci_sort = sorted(set(ci)) #Mengurutkan Set Menjadi List\n",
        "kunci_sort #menampilkan ouput dari kunci_sort"
      ]
    },
    {
      "cell_type": "markdown",
      "source": [
        "Pada kode diatas kata kunci diurutkan"
      ],
      "metadata": {
        "id": "IvczArqfu2Z-"
      }
    },
    {
      "cell_type": "markdown",
      "metadata": {
        "id": "Q4TKoLdgXFyI"
      },
      "source": [
        "**ENCRYPT TEXT**"
      ]
    },
    {
      "cell_type": "code",
      "execution_count": null,
      "metadata": {
        "colab": {
          "base_uri": "https://localhost:8080/"
        },
        "id": "uoVC-qGqXFyI",
        "outputId": "5ebe146e-7935-4994-ac97-cdd837495d92"
      },
      "outputs": [
        {
          "output_type": "execute_result",
          "data": {
            "text/plain": [
              "['T',\n",
              " 'U',\n",
              " 'R',\n",
              " 'I',\n",
              " 'N',\n",
              " 'E',\n",
              " 'I',\n",
              " 'I',\n",
              " 'A',\n",
              " 'M',\n",
              " 'R',\n",
              " 'A',\n",
              " 'U',\n",
              " 'A',\n",
              " 'A',\n",
              " 'A',\n",
              " 'A',\n",
              " 'A',\n",
              " 'N',\n",
              " 'S',\n",
              " '#',\n",
              " 'E',\n",
              " 'T',\n",
              " 'I',\n",
              " 'R',\n",
              " 'D',\n",
              " 'S',\n",
              " 'T',\n",
              " 'T',\n",
              " 'P',\n",
              " 'T',\n",
              " 'J',\n",
              " 'K',\n",
              " 'A',\n",
              " 'Y',\n",
              " 'N',\n",
              " 'P',\n",
              " 'O',\n",
              " 'A',\n",
              " 'A',\n",
              " 'K',\n",
              " 'A',\n",
              " 'D',\n",
              " 'A',\n",
              " 'E',\n",
              " 'A',\n",
              " 'M',\n",
              " 'N',\n",
              " '#',\n",
              " 'K',\n",
              " 'N',\n",
              " 'T',\n",
              " 'S',\n",
              " 'B',\n",
              " 'B',\n",
              " 'D',\n",
              " 'K',\n",
              " 'E',\n",
              " 'G',\n",
              " 'N',\n",
              " 'E',\n",
              " 'X',\n",
              " '#']"
            ]
          },
          "metadata": {},
          "execution_count": 100
        }
      ],
      "source": [
        "cipher = [] # Membuat list cipher untuk menyimpan nilai chipernya\n",
        "index = 0  # membuat sebuah variabel int index bernilai 0 dan digunakan untuk iterasi pada for dibawah\n",
        "for i in range(len(kunci_sort)): # Melakukan iterasi sebanyak panjang kunci_sort\n",
        "  for j in range(1,rows): # Iterasi tiap baris dimulai dari baris kedua dimulai dari index 1\n",
        "    for k in range(len(kunci)):  # Iterasi kolom sebanyak panjang kunci\n",
        "      if(matrix[0][k] == kunci_sort[i]): # Jika karakter dalam baris pertama matriks sama dengan karakter dalam 'kunci_sort'.\n",
        "        if(matrix[j][k] == \" \"): # Jika elemen matriks pada posisi ini adalah spasi.\n",
        "          cipher.append('') # Menambahkan nilai '' kedalam list chiper\n",
        "        else:\n",
        "          cipher.append(matrix[j][k]) # Menambahkan karakter dari setiap iterasi matriks ke dalam 'cipher'.\n",
        "cipher #Menampilkan hasil chiper"
      ]
    },
    {
      "cell_type": "markdown",
      "source": [
        "Pada kode diatas digunakan untuk mengenkripsi berdasarkan kunci_sort, dimana iterasi diatas akan mengambil nilai matrix berdasarkan dari kunci yang terkecil, sehingga pengambilan chiper dimulai dari 1, 2, 3, 4, 5"
      ],
      "metadata": {
        "id": "wTwX6M2zve2o"
      }
    },
    {
      "cell_type": "code",
      "execution_count": null,
      "metadata": {
        "colab": {
          "base_uri": "https://localhost:8080/",
          "height": 35
        },
        "id": "Jk7S4H77XFyI",
        "outputId": "0fa35f45-1302-47bf-84bd-2e6f33b251a1"
      },
      "outputs": [
        {
          "output_type": "execute_result",
          "data": {
            "text/plain": [
              "'TURINEIIAMRAUAAAAANS#ETIRDSTTPTJKAYNPOAAKADAEAMN#KNTSBBDKEGNEX#'"
            ],
            "application/vnd.google.colaboratory.intrinsic+json": {
              "type": "string"
            }
          },
          "metadata": {},
          "execution_count": 101
        }
      ],
      "source": [
        "cipher_text = ''.join(cipher) #Membuat string tunggal dengan menggabungkan elemen-elemen dalam list 'cipher'\n",
        "cipher_text #Menampilkan output dari cipher_text"
      ]
    },
    {
      "cell_type": "markdown",
      "source": [
        "Pada kode diatas digunakan untuk menampilkan hasil enkripsi"
      ],
      "metadata": {
        "id": "IcjfdmnavyXy"
      }
    },
    {
      "cell_type": "code",
      "execution_count": null,
      "metadata": {
        "id": "eHNsR4umXFyI",
        "outputId": "97b1687f-9076-42fa-e063-4dfc054a3ee4",
        "colab": {
          "base_uri": "https://localhost:8080/"
        }
      },
      "outputs": [
        {
          "output_type": "execute_result",
          "data": {
            "text/plain": [
              "['TURIN',\n",
              " 'EIIAM',\n",
              " 'RAUAA',\n",
              " 'AAANS',\n",
              " '#ETIR',\n",
              " 'DSTTP',\n",
              " 'TJKAY',\n",
              " 'NPOAA',\n",
              " 'KADAE',\n",
              " 'AMN#K',\n",
              " 'NTSBB',\n",
              " 'DKEGN',\n",
              " 'EX#']"
            ]
          },
          "metadata": {},
          "execution_count": 102
        }
      ],
      "source": [
        "block_size = 5 # Menentukan ukuran blok\n",
        "blocks = [cipher_text[i:i+block_size] for i in range(0, len(cipher_text), block_size)] # Membuat blok-blok dari string 'cipher_text' dengan ukuran tertentu\n",
        "blocks #Menampilkan output blocks"
      ]
    },
    {
      "cell_type": "code",
      "execution_count": null,
      "metadata": {
        "id": "YIeVwMYKXFyI",
        "outputId": "7375b4cb-379e-40d7-f0ea-930144e3d7d6",
        "colab": {
          "base_uri": "https://localhost:8080/",
          "height": 35
        }
      },
      "outputs": [
        {
          "output_type": "execute_result",
          "data": {
            "text/plain": [
              "'TURIN EIIAM RAUAA AAANS ETIR DSTTP TJKAY NPOAA KADAE AMNK NTSBB DKEGN EX'"
            ],
            "application/vnd.google.colaboratory.intrinsic+json": {
              "type": "string"
            }
          },
          "metadata": {},
          "execution_count": 103
        }
      ],
      "source": [
        "blocks = ' '.join(blocks) # Menggabungkan elemen-elemen dalam list 'blocks' menjadi satu string dengan spasi sebagai pemisah\n",
        "result = blocks.replace(\"#\", \"\") # Menghapus karakter '#' dari string 'blocks' dan menyimpannya dalam variabel 'result'\n",
        "result #Menampilkan output result"
      ]
    },
    {
      "cell_type": "markdown",
      "metadata": {
        "id": "9_uKkfHwXFyJ"
      },
      "source": [
        "**DECRYPT TEXT**"
      ]
    },
    {
      "cell_type": "code",
      "execution_count": null,
      "metadata": {
        "id": "_Y8POEBlXFyJ",
        "outputId": "c88b9682-7cee-4668-b12c-9ee6d62a7e5c",
        "colab": {
          "base_uri": "https://localhost:8080/"
        }
      },
      "outputs": [
        {
          "output_type": "execute_result",
          "data": {
            "text/plain": [
              "[['1', '3', '4', '3', '1', '5', '2', '5', '4'],\n",
              " ['', '', '', '', '', '', '', '', ''],\n",
              " ['', '', '', '', '', '', '', '', ''],\n",
              " ['', '', '', '', '', '', '', '', ''],\n",
              " ['', '', '', '', '', '', '', '', ''],\n",
              " ['', '', '', '', '', '', '', '', ''],\n",
              " ['', '', '', '', '', '', '', '', ''],\n",
              " ['', '', '', '', '', '', '', '', '']]"
            ]
          },
          "metadata": {},
          "execution_count": 104
        }
      ],
      "source": [
        "# Menginisialisasi matriks dekripsi\n",
        "matrix_cipher = [['' for i in range(len(kunci))] for j in range(rows)] #Membuat sebuah 2d array list dengan nilai '' dan panjang dari array list dari kunci dan nilai rows\n",
        "for i in range(rows): # iterasi baris sebanyak rows\n",
        "  for j in range(len(kunci)): # iterasi kolom sebanyak panjang kunci\n",
        "    if(i == 0): #jika nilai i sama dengan 0\n",
        "      matrix_cipher[i][j] = ci[j] # baris pertama diisi dengan kunci\n",
        "matrix_cipher #Menampilkan matrix"
      ]
    },
    {
      "cell_type": "markdown",
      "source": [
        "Membuat sebuah 2d array list dengan nilai '' dan panjang dari array list dari kunci dan nilai rows"
      ],
      "metadata": {
        "id": "gSyEeg-lq1M8"
      }
    },
    {
      "cell_type": "code",
      "execution_count": null,
      "metadata": {
        "id": "WdfrNx13XFyJ",
        "outputId": "30e2fab0-837b-4a70-8c87-06f5093c224d",
        "colab": {
          "base_uri": "https://localhost:8080/"
        }
      },
      "outputs": [
        {
          "output_type": "execute_result",
          "data": {
            "text/plain": [
              "[['1', '3', '4', '3', '1', '5', '2', '5', '4'],\n",
              " ['T', 'E', 'N', 'T', 'U', 'K', 'A', 'N', 'P'],\n",
              " ['R', 'I', 'O', 'R', 'I', 'T', 'A', 'S', 'A'],\n",
              " ['N', 'D', 'A', 'S', 'E', 'B', 'A', 'B', 'K'],\n",
              " ['I', 'T', 'A', 'T', 'I', 'D', 'A', 'K', 'D'],\n",
              " ['A', 'P', 'A', 'T', 'M', 'E', 'N', 'G', 'E'],\n",
              " ['R', 'J', 'A', 'K', 'A', 'N', 'S', 'E', 'M'],\n",
              " ['U', 'A', 'N', 'Y', 'A', 'X', '#', '#', '#']]"
            ]
          },
          "metadata": {},
          "execution_count": 105
        }
      ],
      "source": [
        "# Mengisi matriks dengan blok-blok teks enkripsi\n",
        "indx = 0  # membuat sebuah variabel int index bernilai 0 dan digunakan untuk iterasi pada for dibawah\n",
        "for i in range(len(kunci_sort)): # iterasi baris sebanyak panjang kunci_sort\n",
        "  for j in range(1,rows): # iterasi baris sebanyak rows dan dimulai dari index 1\n",
        "    for k in range(len(kunci)): # iterasi kolom sebanyak panjang kunci\n",
        "      if(matrix_cipher[0][k] == kunci_sort[i]): # jika nilai matrix baris pertama dan nilai kolom sama dengan nilai kunci_sort\n",
        "        if(indx < len(cipher_text)): # jika nilai indx kurang dari panjang cipher_text\n",
        "          matrix_cipher[j][k] = cipher_text[indx] # maka nilai setiap iterasi matrix_cipher diubah menjadi nilai dari iterasi setiap chiper_text\n",
        "          indx+=1 #nilai indx ditambah 1\n",
        "matrix_cipher #menampilkan nilai matrix_chiper"
      ]
    },
    {
      "cell_type": "markdown",
      "source": [
        "Code diatas digunakan untuk mengubah nilai matrix_cipher dengan nilai chiper, dan mengubah sesuai urutan kunci_sortnya"
      ],
      "metadata": {
        "id": "rZudAG1pq4mn"
      }
    },
    {
      "cell_type": "code",
      "execution_count": null,
      "metadata": {
        "id": "OFAa5YbTXFyJ",
        "outputId": "8295a82b-09e9-497e-a0bd-476df967b72d",
        "colab": {
          "base_uri": "https://localhost:8080/"
        }
      },
      "outputs": [
        {
          "output_type": "execute_result",
          "data": {
            "text/plain": [
              "['T',\n",
              " 'E',\n",
              " 'N',\n",
              " 'T',\n",
              " 'U',\n",
              " 'K',\n",
              " 'A',\n",
              " 'N',\n",
              " 'P',\n",
              " 'R',\n",
              " 'I',\n",
              " 'O',\n",
              " 'R',\n",
              " 'I',\n",
              " 'T',\n",
              " 'A',\n",
              " 'S',\n",
              " 'A',\n",
              " 'N',\n",
              " 'D',\n",
              " 'A',\n",
              " 'S',\n",
              " 'E',\n",
              " 'B',\n",
              " 'A',\n",
              " 'B',\n",
              " 'K',\n",
              " 'I',\n",
              " 'T',\n",
              " 'A',\n",
              " 'T',\n",
              " 'I',\n",
              " 'D',\n",
              " 'A',\n",
              " 'K',\n",
              " 'D',\n",
              " 'A',\n",
              " 'P',\n",
              " 'A',\n",
              " 'T',\n",
              " 'M',\n",
              " 'E',\n",
              " 'N',\n",
              " 'G',\n",
              " 'E',\n",
              " 'R',\n",
              " 'J',\n",
              " 'A',\n",
              " 'K',\n",
              " 'A',\n",
              " 'N',\n",
              " 'S',\n",
              " 'E',\n",
              " 'M',\n",
              " 'U',\n",
              " 'A',\n",
              " 'N',\n",
              " 'Y',\n",
              " 'A',\n",
              " 'X',\n",
              " '#',\n",
              " '#',\n",
              " '#']"
            ]
          },
          "metadata": {},
          "execution_count": 106
        }
      ],
      "source": [
        "# Mendekripsi teks\n",
        "decrypted_text = [] #membuat list decrypted_text untuk menampung hasil dekripsi\n",
        "for i in range(1, rows): # iterasi baris sebanyak rows dan dimulai dari index 1\n",
        "    for j in range(len(kunci)): # iterasi kolom sebanyak panjang kunci\n",
        "        decrypted_text.append(matrix_cipher[i][j]) # menambahkan nilai setiap iterasi pada matrix_cipher ke dalam list decrypted_text\n",
        "decrypted_text # menampilkan nilai decrypted_text"
      ]
    },
    {
      "cell_type": "markdown",
      "source": [
        "menambahkan nilai matrix_chiper ke dalam list decrypt"
      ],
      "metadata": {
        "id": "xKZQM3gSsAym"
      }
    },
    {
      "cell_type": "code",
      "execution_count": null,
      "metadata": {
        "id": "9NuweG1FXFyJ",
        "outputId": "60e0b922-f766-407d-d31d-5e4e33180299",
        "colab": {
          "base_uri": "https://localhost:8080/",
          "height": 35
        }
      },
      "outputs": [
        {
          "output_type": "execute_result",
          "data": {
            "text/plain": [
              "'TENTUKANPRIORITASANDASEBABKITATIDAKDAPATMENGERJAKANSEMUANYAX'"
            ],
            "application/vnd.google.colaboratory.intrinsic+json": {
              "type": "string"
            }
          },
          "metadata": {},
          "execution_count": 107
        }
      ],
      "source": [
        "result = \"\".join(decrypted_text) # Menggabungkan elemen-elemen dalam list 'decrypted_text' menjadi satu string tanpa pemisah\n",
        "decrypted_sentence = result.replace(\"#\", \"\") # Menghapus karakter '#' dari string 'result' dan menyimpannya dalam variabel 'decrypted_sentence'\n",
        "decrypted_sentence # Menampilkan decrypted_sentence"
      ]
    },
    {
      "cell_type": "code",
      "execution_count": null,
      "metadata": {
        "id": "A09RtdLaXFyJ"
      },
      "outputs": [],
      "source": [
        "# Memisahkan kata-kata berdasarkan huruf kapital\n",
        "words = [] # array kosong dijadikan sebagai wadah untuk menampung data tiap iterasi\n",
        "current_word = '' # Membuat string kosong untuk menyimpan kata saat ini\n",
        "for char in result: # Melakukan iterasi pada setiap karakter dalam variabel result\n",
        "    if char.isupper() and current_word: # Jika karakter adalah huruf kapital dan current_word tidak kosong\n",
        "        words.append(current_word) # tambahkan current_word ke dalam array words\n",
        "        current_word = char # Mulai kata baru dengan huruf kapital yang ditemukan\n",
        "    else:\n",
        "        current_word += char # Jika tidak memenuhi kondisi pertama, tambahkan karakter tersebut ke dalam current_word\n",
        "if current_word:\n",
        "    words.append(current_word) # Menambahkan kata terakhir ke dalam array words jika masih ada kata yang tersisa dalam current_word\n",
        "words # Menampilkan value words"
      ]
    },
    {
      "cell_type": "code",
      "execution_count": null,
      "metadata": {
        "id": "xSP4bj6yXFyJ",
        "outputId": "4ee95e5f-3b54-4656-9bb8-67778c925739",
        "colab": {
          "base_uri": "https://localhost:8080/",
          "height": 35
        }
      },
      "outputs": [
        {
          "output_type": "execute_result",
          "data": {
            "text/plain": [
              "'T E N T U K A N P R I O R I T A S A N D A S E B A B K I T A T I D A K D A P A T M E N G E R J A K A N S E M U A N Y A X'"
            ],
            "application/vnd.google.colaboratory.intrinsic+json": {
              "type": "string"
            }
          },
          "metadata": {},
          "execution_count": 109
        }
      ],
      "source": [
        "# Menggabungkan karakter menjadi kalimat dengan spasi\n",
        "decrypted_text_with_spaces = ' '.join(words)\n",
        "decrypted_text_with_spaces"
      ]
    }
  ],
  "metadata": {
    "kernelspec": {
      "display_name": "Python 3",
      "language": "python",
      "name": "python3"
    },
    "language_info": {
      "codemirror_mode": {
        "name": "ipython",
        "version": 3
      },
      "file_extension": ".py",
      "mimetype": "text/x-python",
      "name": "python",
      "nbconvert_exporter": "python",
      "pygments_lexer": "ipython3",
      "version": "3.11.6"
    },
    "colab": {
      "provenance": [],
      "include_colab_link": true
    }
  },
  "nbformat": 4,
  "nbformat_minor": 0
}