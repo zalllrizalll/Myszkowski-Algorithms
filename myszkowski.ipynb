{
 "cells": [
  {
   "cell_type": "markdown",
   "metadata": {},
   "source": [
    "**ALGORITMA MYSZKOWSKI**"
   ]
  },
  {
   "cell_type": "code",
   "execution_count": 137,
   "metadata": {},
   "outputs": [
    {
     "data": {
      "text/plain": [
       "'TENTUKAN PRIORITAS ANDA SEBAB KITA TIDAK DAPAT MENGERJAKAN SEMUANYA X'"
      ]
     },
     "execution_count": 137,
     "metadata": {},
     "output_type": "execute_result"
    }
   ],
   "source": [
    "plainText = input(\"Masukkan PlainText : \")\n",
    "plainText"
   ]
  },
  {
   "cell_type": "code",
   "execution_count": 138,
   "metadata": {},
   "outputs": [
    {
     "data": {
      "text/plain": [
       "'BOROBUDUR'"
      ]
     },
     "execution_count": 138,
     "metadata": {},
     "output_type": "execute_result"
    }
   ],
   "source": [
    "kunci = input(\"Masukkan Kunci : \")\n",
    "kunci"
   ]
  },
  {
   "cell_type": "code",
   "execution_count": 139,
   "metadata": {},
   "outputs": [],
   "source": [
    "# VALIDASI INPUT USER\n",
    "if not plainText:\n",
    "    print(\"PlainText Kosong !\")\n",
    "elif not kunci:\n",
    "    print(\"Kunci Kosong !\")\n",
    "else:\n",
    "    plaintext_size = len(plainText)\n",
    "    kunci_size = len(kunci)\n",
    "    size = plaintext_size / kunci_size\n",
    "    size"
   ]
  },
  {
   "cell_type": "code",
   "execution_count": 140,
   "metadata": {},
   "outputs": [],
   "source": [
    "import math\n",
    "\n",
    "def checkDecimal(plainText, key):\n",
    "    rows = 0\n",
    "    if(len(plainText) % len(key) != 0):\n",
    "        rows = math.ceil(len(plainText) / len(key))\n",
    "    else:\n",
    "        rows = len(plainText) / len(key) + 1\n",
    "    return rows"
   ]
  },
  {
   "cell_type": "code",
   "execution_count": 141,
   "metadata": {},
   "outputs": [
    {
     "data": {
      "text/plain": [
       "8"
      ]
     },
     "execution_count": 141,
     "metadata": {},
     "output_type": "execute_result"
    }
   ],
   "source": [
    "rows = checkDecimal(plainText, kunci)\n",
    "rows"
   ]
  },
  {
   "cell_type": "code",
   "execution_count": 142,
   "metadata": {},
   "outputs": [
    {
     "data": {
      "text/plain": [
       "['B', 'D', 'O', 'R', 'U']"
      ]
     },
     "execution_count": 142,
     "metadata": {},
     "output_type": "execute_result"
    }
   ],
   "source": [
    "plainText = plainText.replace(\" \",\"\")\n",
    "unique_keyword = sorted(set(kunci)) \n",
    "unique_keyword"
   ]
  },
  {
   "cell_type": "code",
   "execution_count": 143,
   "metadata": {},
   "outputs": [
    {
     "data": {
      "text/plain": [
       "{'B': [], 'D': [], 'O': [], 'R': [], 'U': []}"
      ]
     },
     "execution_count": 143,
     "metadata": {},
     "output_type": "execute_result"
    }
   ],
   "source": [
    "keyword_order = {char: [] for char in unique_keyword} # tipe data map\n",
    "keyword_order"
   ]
  },
  {
   "cell_type": "code",
   "execution_count": 144,
   "metadata": {},
   "outputs": [
    {
     "data": {
      "text/plain": [
       "['B', 'O', 'R', 'O', 'B', 'U', 'D', 'U', 'R']"
      ]
     },
     "execution_count": 144,
     "metadata": {},
     "output_type": "execute_result"
    }
   ],
   "source": [
    "original_keyword_order = [char for char in kunci] # tipe data array\n",
    "original_keyword_order"
   ]
  },
  {
   "cell_type": "code",
   "execution_count": 145,
   "metadata": {},
   "outputs": [
    {
     "data": {
      "text/plain": [
       "{'B': [1, 1], 'D': [2], 'O': [3, 3], 'R': [4, 4], 'U': [5, 5]}"
      ]
     },
     "execution_count": 145,
     "metadata": {},
     "output_type": "execute_result"
    }
   ],
   "source": [
    "for col, char in enumerate(unique_keyword):\n",
    "    keyword_order[char].extend([col + 1] * kunci.count(char))\n",
    "keyword_order"
   ]
  },
  {
   "cell_type": "code",
   "execution_count": 146,
   "metadata": {},
   "outputs": [
    {
     "data": {
      "text/plain": [
       "['1, 1', '3, 3', '4, 4', '3, 3', '1, 1', '5, 5', '2', '5, 5', '4, 4']"
      ]
     },
     "execution_count": 146,
     "metadata": {},
     "output_type": "execute_result"
    }
   ],
   "source": [
    "key_index = []\n",
    "for char in kunci: # Melakukan iterasi untuk setiap karakter dalam variabel 'kunci'.\n",
    "  orders = ', '.join(map(str, keyword_order[char])) # Mengubah data list integer menjadi bentuk string dan menggabungkan elemen-elemen list tersebut dengan tanda koma dan spasi\n",
    "  key_index.append(orders)\n",
    "key_index"
   ]
  },
  {
   "cell_type": "code",
   "execution_count": 147,
   "metadata": {},
   "outputs": [
    {
     "data": {
      "text/plain": [
       "['1', '3', '4', '3', '1', '5', '2', '5', '4']"
      ]
     },
     "execution_count": 147,
     "metadata": {},
     "output_type": "execute_result"
    }
   ],
   "source": [
    "ci = []\n",
    "for i in range(len(kunci)): # Melakukan iterasi dari 0 hingga panjang variabel 'kunci'.\n",
    "  for j in range(1):  # Melakukan iterasi hanya satu kali (j = 0) untuk setiap nilai i.\n",
    "    ci.append(key_index[i][j])\n",
    "ci"
   ]
  },
  {
   "cell_type": "code",
   "execution_count": 148,
   "metadata": {},
   "outputs": [
    {
     "data": {
      "text/plain": [
       "[['', '', '', '', '', '', '', '', ''],\n",
       " ['', '', '', '', '', '', '', '', ''],\n",
       " ['', '', '', '', '', '', '', '', ''],\n",
       " ['', '', '', '', '', '', '', '', ''],\n",
       " ['', '', '', '', '', '', '', '', ''],\n",
       " ['', '', '', '', '', '', '', '', ''],\n",
       " ['', '', '', '', '', '', '', '', ''],\n",
       " ['', '', '', '', '', '', '', '', '']]"
      ]
     },
     "execution_count": 148,
     "metadata": {},
     "output_type": "execute_result"
    }
   ],
   "source": [
    "matrix = [['' for i in range(len(kunci))] for j in range(rows)]\n",
    "matrix"
   ]
  },
  {
   "cell_type": "code",
   "execution_count": 149,
   "metadata": {},
   "outputs": [
    {
     "data": {
      "text/plain": [
       "[['1', '3', '4', '3', '1', '5', '2', '5', '4'],\n",
       " ['T', 'E', 'N', 'T', 'U', 'K', 'A', 'N', 'P'],\n",
       " ['R', 'I', 'O', 'R', 'I', 'T', 'A', 'S', 'A'],\n",
       " ['N', 'D', 'A', 'S', 'E', 'B', 'A', 'B', 'K'],\n",
       " ['I', 'T', 'A', 'T', 'I', 'D', 'A', 'K', 'D'],\n",
       " ['A', 'P', 'A', 'T', 'M', 'E', 'N', 'G', 'E'],\n",
       " ['R', 'J', 'A', 'K', 'A', 'N', 'S', 'E', 'M'],\n",
       " ['U', 'A', 'N', 'Y', 'A', 'X', '#', '#', '#']]"
      ]
     },
     "execution_count": 149,
     "metadata": {},
     "output_type": "execute_result"
    }
   ],
   "source": [
    "index = 0\n",
    "for i in range(rows): # Melakukan iterasi sebanyak 'rows' kali untuk membentuk baris matriks.\n",
    "  for j in range(len(kunci)): # Melakukan iterasi sebanyak karakter dalam 'kunci' untuk membentuk kolom matriks.\n",
    "    if(i == 0): # Jika ini adalah baris pertama dalam matriks:\n",
    "      matrix[i][j] = ci[j] # Mengisi elemen matriks dengan nilai dari list 'ci'.\n",
    "    else: # Jika ini bukan baris pertama dalam matriks:\n",
    "      if(index < len(plainText)): # Jika 'index' kurang dari panjang plaintext:\n",
    "        matrix[i][j] = plainText[index] # Mengisi elemen matriks dengan karakter dari 'plaintext'.\n",
    "        index+=1 # Nilai index bertambah 1\n",
    "      else: # Jika 'index' sudah mencapai akhir dari 'plaintext':\n",
    "        matrix[i][j] = \"#\" # Mengisi elemen matriks dengan #.\n",
    "matrix"
   ]
  },
  {
   "cell_type": "code",
   "execution_count": 150,
   "metadata": {},
   "outputs": [
    {
     "data": {
      "text/plain": [
       "['1', '2', '3', '4', '5']"
      ]
     },
     "execution_count": 150,
     "metadata": {},
     "output_type": "execute_result"
    }
   ],
   "source": [
    "kunci_sort = sorted(set(ci))\n",
    "kunci_sort"
   ]
  },
  {
   "cell_type": "markdown",
   "metadata": {},
   "source": [
    "**ENCRYPT TEXT**"
   ]
  },
  {
   "cell_type": "code",
   "execution_count": 151,
   "metadata": {},
   "outputs": [
    {
     "data": {
      "text/plain": [
       "['T',\n",
       " 'U',\n",
       " 'R',\n",
       " 'I',\n",
       " 'N',\n",
       " 'E',\n",
       " 'I',\n",
       " 'I',\n",
       " 'A',\n",
       " 'M',\n",
       " 'R',\n",
       " 'A',\n",
       " 'U',\n",
       " 'A',\n",
       " 'A',\n",
       " 'A',\n",
       " 'A',\n",
       " 'A',\n",
       " 'N',\n",
       " 'S',\n",
       " '#',\n",
       " 'E',\n",
       " 'T',\n",
       " 'I',\n",
       " 'R',\n",
       " 'D',\n",
       " 'S',\n",
       " 'T',\n",
       " 'T',\n",
       " 'P',\n",
       " 'T',\n",
       " 'J',\n",
       " 'K',\n",
       " 'A',\n",
       " 'Y',\n",
       " 'N',\n",
       " 'P',\n",
       " 'O',\n",
       " 'A',\n",
       " 'A',\n",
       " 'K',\n",
       " 'A',\n",
       " 'D',\n",
       " 'A',\n",
       " 'E',\n",
       " 'A',\n",
       " 'M',\n",
       " 'N',\n",
       " '#',\n",
       " 'K',\n",
       " 'N',\n",
       " 'T',\n",
       " 'S',\n",
       " 'B',\n",
       " 'B',\n",
       " 'D',\n",
       " 'K',\n",
       " 'E',\n",
       " 'G',\n",
       " 'N',\n",
       " 'E',\n",
       " 'X',\n",
       " '#']"
      ]
     },
     "execution_count": 151,
     "metadata": {},
     "output_type": "execute_result"
    }
   ],
   "source": [
    "cipher = []\n",
    "index = 0\n",
    "for i in range(len(kunci_sort)): # Melakukan iterasi untuk setiap karakter dalam 'kunci_sort'.\n",
    "  for j in range(1,rows): # Iterasi tiap baris dimulai dari baris kedua\n",
    "    for k in range(len(kunci)):  # Iterasi kolom\n",
    "      if(matrix[0][k] == kunci_sort[i]): # Jika karakter dalam baris pertama matriks sama dengan karakter dalam 'kunci_sort'.\n",
    "        if(matrix[j][k] == \" \"): # Jika elemen matriks pada posisi ini adalah spasi.\n",
    "          cipher.append('') # Hilangkan spasi\n",
    "        else:\n",
    "          cipher.append(matrix[j][k]) # Menambahkan karakter dari matriks ke dalam 'cipher'.\n",
    "cipher"
   ]
  },
  {
   "cell_type": "code",
   "execution_count": 152,
   "metadata": {},
   "outputs": [
    {
     "data": {
      "text/plain": [
       "'TURINEIIAMRAUAAAAANS#ETIRDSTTPTJKAYNPOAAKADAEAMN#KNTSBBDKEGNEX#'"
      ]
     },
     "execution_count": 152,
     "metadata": {},
     "output_type": "execute_result"
    }
   ],
   "source": [
    "cipher_text = ''.join(cipher)\n",
    "cipher_text"
   ]
  },
  {
   "cell_type": "code",
   "execution_count": 153,
   "metadata": {},
   "outputs": [
    {
     "data": {
      "text/plain": [
       "['TURIN',\n",
       " 'EIIAM',\n",
       " 'RAUAA',\n",
       " 'AAANS',\n",
       " '#ETIR',\n",
       " 'DSTTP',\n",
       " 'TJKAY',\n",
       " 'NPOAA',\n",
       " 'KADAE',\n",
       " 'AMN#K',\n",
       " 'NTSBB',\n",
       " 'DKEGN',\n",
       " 'EX#']"
      ]
     },
     "execution_count": 153,
     "metadata": {},
     "output_type": "execute_result"
    }
   ],
   "source": [
    "block_size = 5\n",
    "blocks = [cipher_text[i:i+block_size] for i in range(0, len(cipher_text), block_size)]\n",
    "blocks"
   ]
  },
  {
   "cell_type": "code",
   "execution_count": 154,
   "metadata": {},
   "outputs": [
    {
     "data": {
      "text/plain": [
       "'TURIN EIIAM RAUAA AAANS ETIR DSTTP TJKAY NPOAA KADAE AMNK NTSBB DKEGN EX'"
      ]
     },
     "execution_count": 154,
     "metadata": {},
     "output_type": "execute_result"
    }
   ],
   "source": [
    "blocks = ' '.join(blocks)\n",
    "result = blocks.replace(\"#\", \"\")\n",
    "result"
   ]
  },
  {
   "cell_type": "markdown",
   "metadata": {},
   "source": [
    "**DECRYPT TEXT**"
   ]
  },
  {
   "cell_type": "code",
   "execution_count": 155,
   "metadata": {},
   "outputs": [
    {
     "data": {
      "text/plain": [
       "[['1', '3', '4', '3', '1', '5', '2', '5', '4'],\n",
       " ['', '', '', '', '', '', '', '', ''],\n",
       " ['', '', '', '', '', '', '', '', ''],\n",
       " ['', '', '', '', '', '', '', '', ''],\n",
       " ['', '', '', '', '', '', '', '', ''],\n",
       " ['', '', '', '', '', '', '', '', ''],\n",
       " ['', '', '', '', '', '', '', '', ''],\n",
       " ['', '', '', '', '', '', '', '', '']]"
      ]
     },
     "execution_count": 155,
     "metadata": {},
     "output_type": "execute_result"
    }
   ],
   "source": [
    "# Menginisialisasi matriks dekripsi\n",
    "matrix_cipher = [['' for i in range(len(kunci))] for j in range(rows)]\n",
    "for i in range(rows): # iterasi baris\n",
    "  for j in range(len(kunci)): # iterasi kolom\n",
    "    if(i == 0):\n",
    "      matrix_cipher[i][j] = ci[j] # baris pertama diisi dengan kunci\n",
    "matrix_cipher"
   ]
  },
  {
   "cell_type": "code",
   "execution_count": 156,
   "metadata": {},
   "outputs": [
    {
     "data": {
      "text/plain": [
       "[['1', '3', '4', '3', '1', '5', '2', '5', '4'],\n",
       " ['T', 'E', 'N', 'T', 'U', 'K', 'A', 'N', 'P'],\n",
       " ['R', 'I', 'O', 'R', 'I', 'T', 'A', 'S', 'A'],\n",
       " ['N', 'D', 'A', 'S', 'E', 'B', 'A', 'B', 'K'],\n",
       " ['I', 'T', 'A', 'T', 'I', 'D', 'A', 'K', 'D'],\n",
       " ['A', 'P', 'A', 'T', 'M', 'E', 'N', 'G', 'E'],\n",
       " ['R', 'J', 'A', 'K', 'A', 'N', 'S', 'E', 'M'],\n",
       " ['U', 'A', 'N', 'Y', 'A', 'X', '#', '#', '#']]"
      ]
     },
     "execution_count": 156,
     "metadata": {},
     "output_type": "execute_result"
    }
   ],
   "source": [
    "# Mengisi matriks dengan blok-blok teks enkripsi\n",
    "indx = 0\n",
    "for i in range(len(kunci_sort)):\n",
    "  for j in range(1,rows): # iterasi baris\n",
    "    for k in range(len(kunci)): # iterasi kolom\n",
    "      if(matrix_cipher[0][k] == kunci_sort[i]):\n",
    "        if(indx < len(cipher_text)):\n",
    "          matrix_cipher[j][k] = cipher_text[indx]\n",
    "          indx+=1 \n",
    "matrix_cipher"
   ]
  },
  {
   "cell_type": "code",
   "execution_count": 157,
   "metadata": {},
   "outputs": [
    {
     "data": {
      "text/plain": [
       "['T',\n",
       " 'E',\n",
       " 'N',\n",
       " 'T',\n",
       " 'U',\n",
       " 'K',\n",
       " 'A',\n",
       " 'N',\n",
       " 'P',\n",
       " 'R',\n",
       " 'I',\n",
       " 'O',\n",
       " 'R',\n",
       " 'I',\n",
       " 'T',\n",
       " 'A',\n",
       " 'S',\n",
       " 'A',\n",
       " 'N',\n",
       " 'D',\n",
       " 'A',\n",
       " 'S',\n",
       " 'E',\n",
       " 'B',\n",
       " 'A',\n",
       " 'B',\n",
       " 'K',\n",
       " 'I',\n",
       " 'T',\n",
       " 'A',\n",
       " 'T',\n",
       " 'I',\n",
       " 'D',\n",
       " 'A',\n",
       " 'K',\n",
       " 'D',\n",
       " 'A',\n",
       " 'P',\n",
       " 'A',\n",
       " 'T',\n",
       " 'M',\n",
       " 'E',\n",
       " 'N',\n",
       " 'G',\n",
       " 'E',\n",
       " 'R',\n",
       " 'J',\n",
       " 'A',\n",
       " 'K',\n",
       " 'A',\n",
       " 'N',\n",
       " 'S',\n",
       " 'E',\n",
       " 'M',\n",
       " 'U',\n",
       " 'A',\n",
       " 'N',\n",
       " 'Y',\n",
       " 'A',\n",
       " 'X',\n",
       " '#',\n",
       " '#',\n",
       " '#']"
      ]
     },
     "execution_count": 157,
     "metadata": {},
     "output_type": "execute_result"
    }
   ],
   "source": [
    "# Mendekripsi teks\n",
    "decrypted_text = []\n",
    "for i in range(1, rows):\n",
    "    for j in range(len(kunci)):\n",
    "        decrypted_text.append(matrix_cipher[i][j])\n",
    "decrypted_text"
   ]
  },
  {
   "cell_type": "code",
   "execution_count": 158,
   "metadata": {},
   "outputs": [
    {
     "data": {
      "text/plain": [
       "'TENTUKANPRIORITASANDASEBABKITATIDAKDAPATMENGERJAKANSEMUANYAX'"
      ]
     },
     "execution_count": 158,
     "metadata": {},
     "output_type": "execute_result"
    }
   ],
   "source": [
    "result = \"\".join(decrypted_text)\n",
    "decrypted_sentence = result.replace(\"#\", \"\")\n",
    "decrypted_sentence"
   ]
  },
  {
   "cell_type": "code",
   "execution_count": 159,
   "metadata": {},
   "outputs": [],
   "source": [
    "# Memisahkan kata-kata berdasarkan huruf kapital\n",
    "words = []\n",
    "current_word = ''\n",
    "for char in decrypted_sentence:\n",
    "    if char.isupper() and current_word:\n",
    "        words.append(current_word)\n",
    "        current_word = char\n",
    "    else:\n",
    "        current_word += char\n",
    "if current_word:\n",
    "    words.append(current_word)"
   ]
  },
  {
   "cell_type": "code",
   "execution_count": 160,
   "metadata": {},
   "outputs": [
    {
     "data": {
      "text/plain": [
       "'T E N T U K A N P R I O R I T A S A N D A S E B A B K I T A T I D A K D A P A T M E N G E R J A K A N S E M U A N Y A X'"
      ]
     },
     "execution_count": 160,
     "metadata": {},
     "output_type": "execute_result"
    }
   ],
   "source": [
    "# Menggabungkan kata-kata menjadi kalimat dengan spasi\n",
    "decrypted_text_with_spaces = ' '.join(words)\n",
    "decrypted_text_with_spaces"
   ]
  }
 ],
 "metadata": {
  "kernelspec": {
   "display_name": "Python 3",
   "language": "python",
   "name": "python3"
  },
  "language_info": {
   "codemirror_mode": {
    "name": "ipython",
    "version": 3
   },
   "file_extension": ".py",
   "mimetype": "text/x-python",
   "name": "python",
   "nbconvert_exporter": "python",
   "pygments_lexer": "ipython3",
   "version": "3.11.6"
  }
 },
 "nbformat": 4,
 "nbformat_minor": 2
}
